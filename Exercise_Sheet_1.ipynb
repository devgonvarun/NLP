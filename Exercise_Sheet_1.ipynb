{
 "cells": [
  {
   "cell_type": "markdown",
   "metadata": {},
   "source": [
    "# Natural Language Processing\n",
    "\n",
    "## Exercise Sheet 1"
   ]
  },
  {
   "cell_type": "code",
   "execution_count": 2,
   "metadata": {},
   "outputs": [
    {
     "name": "stdout",
     "output_type": "stream",
     "text": [
      "*** Introductory Examples for the NLTK Book ***\n",
      "Loading text1, ..., text9 and sent1, ..., sent9\n",
      "Type the name of the text or sentence to view it.\n",
      "Type: 'texts()' or 'sents()' to list the materials.\n",
      "text1: Moby Dick by Herman Melville 1851\n",
      "text2: Sense and Sensibility by Jane Austen 1811\n",
      "text3: The Book of Genesis\n",
      "text4: Inaugural Address Corpus\n",
      "text5: Chat Corpus\n",
      "text6: Monty Python and the Holy Grail\n",
      "text7: Wall Street Journal\n",
      "text8: Personals Corpus\n",
      "text9: The Man Who Was Thursday by G . K . Chesterton 1908\n"
     ]
    }
   ],
   "source": [
    "#imports for all exercises\n",
    "from nltk.book import *"
   ]
  },
  {
   "cell_type": "markdown",
   "metadata": {},
   "source": [
    "### Exercise 1\n",
    "\n",
    "How many words are there in `text2` from `nltk.book`? How many distinct words are there? Calculate the lexical diversity.\n"
   ]
  },
  {
   "cell_type": "markdown",
   "metadata": {},
   "source": [
    "Total Number of words (including punctuations):"
   ]
  },
  {
   "cell_type": "code",
   "execution_count": 3,
   "metadata": {},
   "outputs": [
    {
     "data": {
      "text/plain": [
       "141576"
      ]
     },
     "execution_count": 3,
     "metadata": {},
     "output_type": "execute_result"
    }
   ],
   "source": [
    "len(text2)"
   ]
  },
  {
   "cell_type": "markdown",
   "metadata": {},
   "source": [
    "Distinct words (including punctuations):"
   ]
  },
  {
   "cell_type": "code",
   "execution_count": 4,
   "metadata": {},
   "outputs": [
    {
     "data": {
      "text/plain": [
       "6833"
      ]
     },
     "execution_count": 4,
     "metadata": {},
     "output_type": "execute_result"
    }
   ],
   "source": [
    "len(set(text2))"
   ]
  },
  {
   "cell_type": "markdown",
   "metadata": {},
   "source": [
    "Lexical Diversity:"
   ]
  },
  {
   "cell_type": "code",
   "execution_count": 5,
   "metadata": {},
   "outputs": [
    {
     "data": {
      "text/plain": [
       "0.04826383002768831"
      ]
     },
     "execution_count": 5,
     "metadata": {},
     "output_type": "execute_result"
    }
   ],
   "source": [
    "len(set(text2)) / len(text2)"
   ]
  },
  {
   "cell_type": "markdown",
   "metadata": {},
   "source": [
    "### Exercise 2\n",
    "\n",
    "Produce a dispersion plot of the four main protagonists in Sense and Sensibility: Elinor, Marianne, Edward, and Willoughby. What can you observe about the different roles played by the males and females in this novel? Can you identify the couples?"
   ]
  },
  {
   "cell_type": "code",
   "execution_count": 6,
   "metadata": {},
   "outputs": [
    {
     "data": {
      "image/png": "[encoded data removed]",
      "text/plain": [
       "<Figure size 1440x360 with 1 Axes>"
      ]
     },
     "metadata": {
      "needs_background": "light"
     },
     "output_type": "display_data"
    }
   ],
   "source": [
    "import matplotlib.pylab as plt\n",
    "plt.rcParams['figure.figsize'] = [20,5]\n",
    "text2.dispersion_plot([\"Elinor\", \"Marianne\", \"Edward\", \"Willoughby\"])"
   ]
  },
  {
   "cell_type": "markdown",
   "metadata": {},
   "source": [
    "What can you observe about the different roles played by the males and females in this novel?\n",
    "\n",
    "From the dispersion plot we can observe the location of protagonists name occurances in the text. Elinor and Marianne are the females and Edward and Willoughby are the males I assume from the names. It can be observed that males do not have much overlap between there plotlines in the text. When the texts on Edward comes, there is not much written about Willoughby and vice and versa. Whereas the females Elinor and Marianne are the main characters of the story since they have a lot of occurances of their names in the text throughout the entire text from the beginning till the end at the same time. So it is mainly the story about the two females."
   ]
  },
  {
   "cell_type": "markdown",
   "metadata": {},
   "source": [
    "Can you identify the couples?\n",
    "\n",
    "From looking at the overlap of dispersion plots between different protagonists it can be guessed/observed:\n",
    "1. Marianne and Willoughby \n",
    "2. Elinor and Edward"
   ]
  },
  {
   "cell_type": "markdown",
   "metadata": {},
   "source": [
    "### Exercise 3\n",
    "\n",
    "Find the collocations in `text6`."
   ]
  },
  {
   "cell_type": "code",
   "execution_count": 7,
   "metadata": {},
   "outputs": [
    {
     "data": {
      "text/plain": [
       "['BLACK KNIGHT',\n",
       " 'clop clop',\n",
       " 'HEAD KNIGHT',\n",
       " 'mumble mumble',\n",
       " 'Holy Grail',\n",
       " 'squeak squeak',\n",
       " 'FRENCH GUARD',\n",
       " 'saw saw',\n",
       " 'Sir Robin',\n",
       " 'Run away',\n",
       " 'CARTOON CHARACTER',\n",
       " 'King Arthur',\n",
       " 'Iesu domine',\n",
       " 'Pie Iesu',\n",
       " 'DEAD PERSON',\n",
       " 'Round Table',\n",
       " 'clap clap',\n",
       " 'OLD MAN',\n",
       " 'dramatic chord',\n",
       " 'dona eis']"
      ]
     },
     "execution_count": 7,
     "metadata": {},
     "output_type": "execute_result"
    }
   ],
   "source": [
    "text6.collocation_list()"
   ]
  },
  {
   "cell_type": "markdown",
   "metadata": {},
   "source": [
    "### Exercise 4\n",
    "\n",
    "Use only the `index()` function to find all the indexes of the word \"sunset\" in `text9`."
   ]
  },
  {
   "cell_type": "code",
   "execution_count": 11,
   "metadata": {},
   "outputs": [
    {
     "name": "stdout",
     "output_type": "stream",
     "text": [
      "[629, 642, 1432, 1650, 13335, 13381, 16313, 27014, 49340, 52092, 60857, 60862, 64721, 64736]\n"
     ]
    }
   ],
   "source": [
    "text_9 = list(text9)\n",
    "i = 0\n",
    "indexes = list()\n",
    "while True:\n",
    "    try:\n",
    "        i = text_9.index('sunset', i)\n",
    "        indexes.append(i)\n",
    "        i += 1\n",
    "    except ValueError as e:\n",
    "        break\n",
    "print(indexes)\n",
    "\n",
    "#Was difficult to find all indexes as the index function returns only the first occurance. \n",
    "#Took ideas from the following StackOverlow post\n",
    "#https://stackoverflow.com/questions/6294179/how-to-find-all-occurrences-of-an-element-in-a-list"
   ]
  },
  {
   "cell_type": "markdown",
   "metadata": {},
   "source": [
    "### Exercise 5\n",
    "\n",
    "What is the difference between the following two lines? Calculate the two values:\n",
    "\n",
    "    len(sorted(set(w.lower() for w in text1)))\n",
    "    len(sorted(w.lower() for w in set(text1)))"
   ]
  },
  {
   "cell_type": "code",
   "execution_count": 12,
   "metadata": {},
   "outputs": [
    {
     "data": {
      "text/plain": [
       "17231"
      ]
     },
     "execution_count": 12,
     "metadata": {},
     "output_type": "execute_result"
    }
   ],
   "source": [
    "len(sorted(set(w.lower() for w in text1)))"
   ]
  },
  {
   "cell_type": "code",
   "execution_count": 13,
   "metadata": {},
   "outputs": [
    {
     "data": {
      "text/plain": [
       "19317"
      ]
     },
     "execution_count": 13,
     "metadata": {},
     "output_type": "execute_result"
    }
   ],
   "source": [
    "len(sorted(w.lower() for w in set(text1)))"
   ]
  },
  {
   "cell_type": "markdown",
   "metadata": {},
   "source": [
    "In a set, all duplicates are collapsed together.\n",
    "\n",
    "1) In line 1, all the words in text1 are first lowercased and then a set is created. Thus there will be no duplicacy at all since all instances of for example: 'small' and 'Small' will all be converted into 'small' respectively and then collapsed into one 'small' instance to the set. Finally the length is calculated\n",
    "\n",
    "2) In line 2, first the set of text1 is created thus collapsing all duplicates together however still keeping upper and lower case instances separate. Then all words are lowercased. Thus converting 'Small' into 'small' but not collapsing together finally with an already existing 'small'. Hence the final length calculated will be more than in line 1 because of duplicacy."
   ]
  },
  {
   "cell_type": "markdown",
   "metadata": {},
   "source": [
    "### Exercise 6\n",
    "\n",
    "Write the slice expression that extracts the last two words of `text2`."
   ]
  },
  {
   "cell_type": "code",
   "execution_count": 14,
   "metadata": {},
   "outputs": [
    {
     "data": {
      "text/plain": [
       "['THE', 'END']"
      ]
     },
     "execution_count": 14,
     "metadata": {},
     "output_type": "execute_result"
    }
   ],
   "source": [
    "text2[-2:]"
   ]
  },
  {
   "cell_type": "markdown",
   "metadata": {},
   "source": [
    "### Exercise 7\n",
    "\n",
    "Find all the four-letter words in `text6`. With the help of a frequency distribution (`FreqDist`), show these words in decreasing order of frequency.\n"
   ]
  },
  {
   "cell_type": "code",
   "execution_count": 15,
   "metadata": {},
   "outputs": [
    {
     "data": {
      "text/plain": [
       "[('that', 84),\n",
       " ('your', 75),\n",
       " ('What', 65),\n",
       " ('this', 59),\n",
       " ('HEAD', 54),\n",
       " ('Well', 54),\n",
       " ('have', 53),\n",
       " ('boom', 45),\n",
       " ('clop', 39),\n",
       " ('away', 38)]"
      ]
     },
     "execution_count": 15,
     "metadata": {},
     "output_type": "execute_result"
    }
   ],
   "source": [
    "four_letters = sorted(w for w in text6 if len(w) == 4)\n",
    "fdist1 = FreqDist(four_letters)\n",
    "fdist1.most_common(10)"
   ]
  },
  {
   "cell_type": "markdown",
   "metadata": {},
   "source": [
    "### Exercise 8\n",
    "\n",
    "Create a set for the words in `text6`. Use a `for` and an `if` statement to loop over the words in the set and print all titlecased words with more than one character, one per line.\n"
   ]
  },
  {
   "cell_type": "code",
   "execution_count": 16,
   "metadata": {},
   "outputs": [
    {
     "name": "stdout",
     "output_type": "stream",
     "text": [
      "{'SOLDIER', 'OLD', 'Churches', 'Aauuuuugh', 'Chickennn', 'Oooo', 'Ecky', 'Looks', 'LUCKY', 'But', 'Did', 'Lady', 'MIDDLE', 'Man', 'First', 'Armaments', 'KNIGHTS', 'Ere', 'Cornwall', 'Or', 'Waa', 'Must', 'Til', 'Two', 'Prepare', 'Together', 'There', 'Eternal', 'Assyria', 'Charge', 'DINGO', 'Could', 'Hang', 'Aaaaugh', 'Beast', 'Aaaaaaaaah', 'Lancelot', 'Antioch', 'Ewing', 'Christ', 'Loimbard', 'We', 'What', 'Consult', 'AMAZING', 'Pull', 'Eh', 'WITCH', 'Grail', 'Anyway', 'Right', 'CART', 'Order', 'Ector', 'Uuh', 'None', 'DIRECTOR', 'Hello', 'CROWD', 'Make', 'TIM', 'Bravely', 'PRINCESS', 'Shrubber', 'FATHER', 'Which', 'Message', 'LOVELY', 'PERSON', 'Practice', 'Erbert', 'Let', 'Agh', 'Supreme', 'Lie', 'Tim', 'STUNNER', 'Yeaah', 'CARTOON', 'Alice', 'Heh', 'Saxons', 'Court', 'Your', 'France', 'Gable', 'Huyah', 'Ask', 'Bedevere', 'Hooray', 'Three', 'PARTY', 'WINSTON', 'Great', 'Behold', 'CONCORDE', 'Open', 'Britain', 'HEADS', 'Help', 'Dis', 'Battle', 'True', 'Ives', 'Concorde', 'Go', 'Morning', 'Winston', 'Anybody', 'Midget', 'GUARDS', 'GREEN', 'Mine', 'You', 'Blue', 'Quite', 'KNIGHT', 'Twenty', 'Huh', 'As', 'SCENE', 'Woa', 'Surely', 'Bones', 'Nothing', 'Jesus', 'Summer', 'Um', 'Camaaaaaargue', 'See', 'Castle', 'Tall', 'Iesu', 'Is', 'Just', 'On', 'Monsieur', 'Aauuggghhh', 'Bon', 'Halt', 'Silly', 'Thppppt', 'Tell', 'Very', 'Chapter', 'Chaste', 'CRONE', 'Peril', 'Running', 'Pure', 'PIGLET', 'Mind', 'Say', 'ALL', 'Shh', 'Hallo', 'CHARACTER', 'BRIDE', 'RIGHT', 'Perhaps', 'MAN', 'Galahad', 'FRENCH', 'Un', 'BLACK', 'Bravest', 'Nador', 'Here', 'SENTRY', 'ANIMATOR', 'Since', 'African', 'Everything', 'Shrubberies', 'BEDEVERE', 'Launcelot', 'Fiends', 'Mercea', 'Amen', 'How', 'Arimathea', 'God', 'Forward', 'Doctor', 'Yapping', 'Wait', 'Yeah', 'Ooh', 'HERBERT', 'Oh', 'Camelot', 'If', 'GUARD', 'Follow', 'WOMAN', 'GALAHAD', 'MASTER', 'An', 'Ulk', 'Aagh', 'Does', 'PRISONER', 'Tale', 'CRASH', 'Augh', 'Ridden', 'SECOND', 'Riiight', 'Clark', 'Lord', 'Therefore', 'Hya', 'Explain', 'Princess', 'Look', 'Winter', 'Hey', 'He', 'Pie', 'Thpppt', 'Honestly', 'Spring', 'Chicken', 'Uhh', 'Forgive', 'Build', 'When', 'Nay', 'Pendragon', 'Ay', 'Caerbannog', 'Ages', 'Good', 'MIDGET', 'Aaaah', 'Isn', 'Hyy', 'Haw', 'Cider', 'Between', 'Robinson', 'Gawain', 'Oooohoohohooo', 'Hm', 'Divine', 'Gallahad', 'Mother', 'Ahh', 'Schools', 'CHARACTERS', 'VOICE', 'Guy', 'Alright', 'Lake', 'Apples', 'Oooh', 'Thpppppt', 'DENNIS', 'Quick', 'Oooooooh', 'Didn', 'Robin', 'Where', 'French', 'Put', 'Father', 'Enchanter', 'ARMY', 'Cherries', 'CUSTOMER', 'Today', 'Once', 'VILLAGER', 'Ayy', 'Of', 'Peng', 'Aaaaaaaah', 'Well', 'HEAD', 'ARTHUR', 'Listen', 'All', 'Tower', 'The', 'Heee', 'Gorge', 'Stand', 'Thursday', 'Thee', 'SUN', 'Fine', 'Beyond', 'English', 'Thppt', 'OF', 'Uther', 'Bridge', 'Holy', 'Chop', 'Knights', 'Oui', 'Victory', 'Book', 'Erm', 'MINSTREL', 'Providence', 'Mmm', 'Iiiives', 'NI', 'Nine', 'May', 'Aaah', 'BROTHER', 'Thsss', 'Knight', 'Crapper', 'Aaauugh', 'Would', 'Joseph', 'King', 'Fetchez', 'With', 'Brother', 'Even', 'Why', 'Auuuuuuuugh', 'At', 'Lucky', 'Hoa', 'Dennis', 'Ow', 'Greetings', 'SIR', 'Be', 'Yes', 'Leaving', 'Old', 'Don', 'Piglet', 'Action', 'Meanwhile', 'BORS', 'To', 'Hoo', 'Bedwere', 'Aaagh', 'Away', 'Anthrax', 'Aaaugh', 'Will', 'Britons', 'England', 'ZOOT', 'Try', 'Firstly', 'Thy', 'Rather', 'Farewell', 'Recently', 'Yup', 'Attila', 'Death', 'Quickly', 'Really', 'Our', 'Aramaic', 'She', 'Himself', 'Badon', 'Who', 'Bristol', 'Hmm', 'One', 'My', 'Stop', 'Hic', 'Bors', 'Bring', 'Uugh', 'PRINCE', 'Found', 'Dingo', 'Thou', 'Splendid', 'DEAD', 'Hold', 'Umm', 'Yay', 'Speak', 'Uh', 'Those', 'Arthur', 'Allo', 'Eee', 'ROGER', 'NARRATOR', 'Thank', 'By', 'Yeaaah', 'ENCHANTER', 'Iiiiives', 'VILLAGERS', 'Quiet', 'Unfortunately', 'Skip', 'Please', 'Dramatically', 'Herbert', 'In', 'Frank', 'More', 'Hurry', 'Most', 'Until', 'Not', 'WIFE', 'Hah', 'Grenade', 'Tis', 'Dragon', 'Keep', 'Exactly', 'CAMERAMAN', 'Idiom', 'And', 'Off', 'Never', 'Too', 'Remove', 'Like', 'Five', 'Hee', 'Stay', 'Excalibur', 'Bloody', 'Excuse', 'Ah', 'Umhm', 'Anarcho', 'Aauuugh', 'Get', 'Seek', 'Zoot', 'BRIDGEKEEPER', 'Picture', 'European', 'Other', 'Far', 'Ninepence', 'Walk', 'They', 'SHRUBBER', 'So', 'Wood', 'MAYNARD', 'Hiyaah', 'Olfin', 'Supposing', 'Aggh', 'Round', 'LAUNCELOT', 'Back', 'LEFT', 'Rheged', 'Table', 'MONKS', 'This', 'Shall', 'Maynard', 'That', 'Every', 'Course', 'Bad', 'Black', 'Wayy', 'Psalms', 'Four', 'GIRLS', 'Silence', 'Shut', 'Then', 'Said', 'His', 'GUESTS', 'Torment', 'Are', 'Defeat', 'KING', 'CRAPPER', 'OFFICER', 'Lead', 'Aauuuves', 'THE', 'Guards', 'Aaaaaah', 'Clear', 'Now', 'Come', 'Hiyya', 'Sir', 'Welcome', 'Aah', 'For', 'Huy', 'Packing', 'Have', 'OTHER', 'Almighty', 'Use', 'Patsy', 'Prince', 'Whoa', 'Angnor', 'Run', 'Throw', 'Autumn', 'INSPECTOR', 'Roger', 'It', 'No', 'Bread', 'Pin', 'Burn', 'Hill', 'Quoi', 'HISTORIAN', 'Mud', 'Dappy', 'Steady', 'Hiyah', 'Hand', 'Brave', 'RANDOM', 'Neee', 'Actually', 'GOD', 'Saint', 'Ha', 'PATSY', 'Sorry', 'Am', 'Swamp', 'Over', 'GUEST', 'Nu', 'Ohh', 'ROBIN', 'Aaauggh', 'Cut', 'Do', 'Ni', 'Ho'}\n"
     ]
    }
   ],
   "source": [
    "text_6 = set(w for w in set(text6) if len(w) > 1 and w[0].isupper())\n",
    "print(text_6)"
   ]
  },
  {
   "cell_type": "markdown",
   "metadata": {},
   "source": [
    "### Exercise 9\n",
    "\n",
    "Write expressions for finding all words in `text6` that meet the conditions listed below:\n",
    "\n",
    "a) ending in \"ing\", \n"
   ]
  },
  {
   "cell_type": "code",
   "execution_count": 17,
   "metadata": {},
   "outputs": [
    {
     "name": "stdout",
     "output_type": "stream",
     "text": [
      "['King', 'using', 'suggesting', 'carrying', 'bring', 'Supposing', 'guiding', 'Bring', 'Bring', 'Bring', 'Bring', 'Bring', 'Bring', 'Bring', 'Bring', 'Bring', 'Bring', 'Bring', 'Bring', 'Nothing', 'getting', 'fooling', 'something', 'singing', 'king', 'King', 'King', 'king', 'king', 'exploiting', 'anging', 'going', 'King', 'King', 'king', 'king', 'fooling', 'living', 'perpetuating', 'working', 'bringing', 'meeting', 'king', 'king', 'sing', 'shimmering', 'signifying', 'singing', 'king', 'lying', 'distributing', 'saying', 'being', 'repressing', 'King', 'King', 'King', 'King', 'King', 'King', 'kneeling', 'going', 'Running', 'coming', 'chanting', 'chanting', 'Bring', 'telling', 'King', 'King', 'appearing', 'learning', 'singing', 'dancing', 'sing', 'dancing', 'sing', 'King', 'singing', 'thing', 'groveling', 'doing', 'averting', 'depressing', 'King', 'sing', 'singing', 'blessing', 'blessing', 'King', 'King', 'king', 'doing', 'King', 'taunting', 'whispering', 'taking', 'King', 'taunting', 'having', 'Ewing', 'singing', 'preserving', 'singing', 'passing', 'singing', 'nothing', 'nothing', 'Yapping', 'bitching', 'singing', 'singing', 'singing', 'singing', 'singing', 'taking', 'singing', 'singing', 'chanting', 'chanting', 'chanting', 'whispering', 'asking', 'singing', 'King', 'bathing', 'dressing', 'undressing', 'making', 'exciting', 'nothing', 'training', 'nothing', 'going', 'setting', 'writing', 'string', 'enjoying', 'setting', 'spanking', 'spanking', 'spanking', 'spanking', 'spanking', 'going', 'spanking', 'spanking', 'King', 'something', 'walking', 'dragging', 'smashing', 'acting', 'starling', 'nothing', 'sing', 'going', 'getting', 'something', 'marrying', 'anything', 'entering', 'Leaving', 'Leaving', 'going', 'coming', 'singing', 'daring', 'Morning', 'Morning', 'everything', 'wedding', 'thing', 'going', 'riding', 'King', 'understanding', 'crying', 'going', 'living', 'yelling', 'yelling', 'wounding', 'getting', 'binding', 'singing', 'going', 'going', 'singing', 'going', 'singing', 'going', 'singing', 'going', 'singing', 'going', 'going', 'going', 'going', 'singing', 'going', 'singing', 'going', 'going', 'singing', 'going', 'singing', 'singing', 'singing', 'King', 'doing', 'saying', 'passing', 'Nothing', 'boing', 'running', 'herring', 'thing', 'herring', 'saying', 'singing', 'Packing', 'packing', 'sneaking', 'buggering', 'chickening', 'pissing', 'throwing', 'singing', 'sneaking', 'buggering', 'looking', 'saying', 'rejoicing', 'rejoicing', 'shivering', 'Spring', 'Spring', 'Spring', 'King', 'King', 'looking', 'looking', 'anything', 'living', 'resting', 'warning', 'Bring', 'chanting', 'saying', 'saying', 'counting', 'excepting', 'being', 'being', 'sing', 'carving', 'dying', 'dictating', 'anything', 'running', 'doing', 'going', 'King', 'king', 'sing', 'singing', 'King', 'running', 'advancing', 'wetting', 'opening', 'thing', 'laughing', 'approaching', 'taunting', 'nothing', 'taunting', 'exciting', 'taunting', 'Everything']\n"
     ]
    }
   ],
   "source": [
    "print([w for w in text6 if w.endswith('ing')])"
   ]
  },
  {
   "cell_type": "markdown",
   "metadata": {},
   "source": [
    "\n",
    "b) containing the letter \"z\",\n",
    "\n"
   ]
  },
  {
   "cell_type": "code",
   "execution_count": 18,
   "metadata": {},
   "outputs": [
    {
     "name": "stdout",
     "output_type": "stream",
     "text": [
      "['zone', 'amazes', 'Fetchez', 'Fetchez', 'zoop', 'zoo', 'zhiv', 'frozen', 'zoosh']\n"
     ]
    }
   ],
   "source": [
    "print([w for w in text6 if 'z' in w])"
   ]
  },
  {
   "cell_type": "markdown",
   "metadata": {},
   "source": [
    "c) containing the letter sequence \"pt\".\n"
   ]
  },
  {
   "cell_type": "code",
   "execution_count": 19,
   "metadata": {},
   "outputs": [
    {
     "name": "stdout",
     "output_type": "stream",
     "text": [
      "['empty', 'aptly', 'Thpppppt', 'Thppt', 'Thppt', 'empty', 'Thppppt', 'temptress', 'temptation', 'ptoo', 'Chapter', 'excepting', 'Thpppt']\n"
     ]
    }
   ],
   "source": [
    "print([w for w in text6 if 'pt' in w])"
   ]
  },
  {
   "cell_type": "markdown",
   "metadata": {},
   "source": [
    "All conditions a) b) and c) together"
   ]
  },
  {
   "cell_type": "code",
   "execution_count": 20,
   "metadata": {},
   "outputs": [
    {
     "data": {
      "text/plain": [
       "[]"
      ]
     },
     "execution_count": 20,
     "metadata": {},
     "output_type": "execute_result"
    }
   ],
   "source": [
    "[w for w in text6 if w.endswith('ing') and 'z' in w and 'pt' in w]"
   ]
  },
  {
   "cell_type": "markdown",
   "metadata": {},
   "source": [
    "No such words found."
   ]
  },
  {
   "cell_type": "markdown",
   "metadata": {},
   "source": [
    "### Exercise 10\n",
    "\n",
    "Define `sent` to be the list of words `['she', 'sells', 'sea', 'shells', 'by', 'the', 'sea', 'shore']`. Now write code to perform the following tasks:"
   ]
  },
  {
   "cell_type": "code",
   "execution_count": 21,
   "metadata": {},
   "outputs": [],
   "source": [
    "sent = ['she', 'sells', 'sea', 'shells', 'by', 'the', 'sea', 'shore']"
   ]
  },
  {
   "cell_type": "markdown",
   "metadata": {},
   "source": [
    "a) print all words beginning with \"sh\""
   ]
  },
  {
   "cell_type": "code",
   "execution_count": 22,
   "metadata": {},
   "outputs": [
    {
     "data": {
      "text/plain": [
       "['she', 'shells', 'shore']"
      ]
     },
     "execution_count": 22,
     "metadata": {},
     "output_type": "execute_result"
    }
   ],
   "source": [
    "[w for w in sent if w.startswith('sh')]"
   ]
  },
  {
   "cell_type": "markdown",
   "metadata": {},
   "source": [
    "b) print all words longer than four characters."
   ]
  },
  {
   "cell_type": "code",
   "execution_count": 23,
   "metadata": {},
   "outputs": [
    {
     "data": {
      "text/plain": [
       "['sells', 'shells', 'shore']"
      ]
     },
     "execution_count": 23,
     "metadata": {},
     "output_type": "execute_result"
    }
   ],
   "source": [
    "[w for w in sent if len(w)>4]"
   ]
  },
  {
   "cell_type": "markdown",
   "metadata": {},
   "source": [
    "a) and b) together"
   ]
  },
  {
   "cell_type": "code",
   "execution_count": 24,
   "metadata": {},
   "outputs": [
    {
     "data": {
      "text/plain": [
       "['shells', 'shore']"
      ]
     },
     "execution_count": 24,
     "metadata": {},
     "output_type": "execute_result"
    }
   ],
   "source": [
    "[w for w in sent if w.startswith('sh') and len(w)>4]"
   ]
  },
  {
   "cell_type": "markdown",
   "metadata": {},
   "source": [
    "### Exercise 11\n",
    "\n",
    "What does the following Python code do? \n",
    "\n",
    "`sum(len(w) for w in text1)`\n",
    "\n",
    "Can you use it to work out the average word length of `text1`?"
   ]
  },
  {
   "cell_type": "markdown",
   "metadata": {},
   "source": [
    "This calculates the length of each word in text1 and then sums all the lengths for all the words in text1. So for example the word \"and\" has the length 3 and the word \"Happy\" has the length 5. So their summed length will be 8. \n",
    "\n",
    "The average word length in text1 = total word lengths in text1 / number of words in text1"
   ]
  },
  {
   "cell_type": "code",
   "execution_count": 25,
   "metadata": {},
   "outputs": [
    {
     "name": "stdout",
     "output_type": "stream",
     "text": [
      "3.830411128023649\n"
     ]
    }
   ],
   "source": [
    "average_word_length_in_text1 = sum(len(w) for w in text1)/len(text1)\n",
    "print(average_word_length_in_text1)"
   ]
  },
  {
   "cell_type": "markdown",
   "metadata": {},
   "source": [
    "### Exercise 12\n",
    "\n",
    "Define a function `freq(word, text)` that calculates how often a given word occurs in a text, not using `count()` but a `FreqDist`. Use the function to calculate how often \"promise\" appears in `text4`."
   ]
  },
  {
   "cell_type": "code",
   "execution_count": 26,
   "metadata": {},
   "outputs": [
    {
     "data": {
      "text/plain": [
       "48"
      ]
     },
     "execution_count": 26,
     "metadata": {},
     "output_type": "execute_result"
    }
   ],
   "source": [
    "def freq(word, text):\n",
    "    fdist2 = FreqDist(text)\n",
    "    return fdist2[word]\n",
    "freq('promise',text4)"
   ]
  }
 ],
 "metadata": {
  "kernelspec": {
   "display_name": "Python 3",
   "language": "python",
   "name": "python3"
  },
  "language_info": {
   "codemirror_mode": {
    "name": "ipython",
    "version": 3
   },
   "file_extension": ".py",
   "mimetype": "text/x-python",
   "name": "python",
   "nbconvert_exporter": "python",
   "pygments_lexer": "ipython3",
   "version": "3.7.7"
  }
 },
 "nbformat": 4,
 "nbformat_minor": 2
}
